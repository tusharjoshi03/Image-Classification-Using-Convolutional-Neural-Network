{
 "cells": [
  {
   "cell_type": "code",
   "execution_count": 2,
   "metadata": {},
   "outputs": [
    {
     "name": "stdout",
     "output_type": "stream",
     "text": [
      "mkdir: data: File exists\n",
      "WARNING:tensorflow:From /anaconda3/lib/python3.6/site-packages/tensorflow/python/framework/op_def_library.py:263: colocate_with (from tensorflow.python.framework.ops) is deprecated and will be removed in a future version.\n",
      "Instructions for updating:\n",
      "Colocations handled automatically by placer.\n",
      "WARNING:tensorflow:From /anaconda3/lib/python3.6/site-packages/tensorflow/python/ops/math_ops.py:3066: to_int32 (from tensorflow.python.ops.math_ops) is deprecated and will be removed in a future version.\n",
      "Instructions for updating:\n",
      "Use tf.cast instead.\n",
      "Train on 543949 samples, validate on 60439 samples\n",
      "Epoch 1/5\n",
      "543949/543949 [==============================] - 1602s 3ms/step - loss: 0.3929 - acc: 0.8907 - val_loss: 0.2122 - val_acc: 0.9442\n",
      "Epoch 2/5\n",
      "543949/543949 [==============================] - 1526s 3ms/step - loss: 0.2278 - acc: 0.9390 - val_loss: 0.1752 - val_acc: 0.9518\n",
      "Epoch 3/5\n",
      "543949/543949 [==============================] - 1599s 3ms/step - loss: 0.1927 - acc: 0.9481 - val_loss: 0.1511 - val_acc: 0.9590\n",
      "Epoch 4/5\n",
      "543949/543949 [==============================] - 1657s 3ms/step - loss: 0.1725 - acc: 0.9534 - val_loss: 0.1442 - val_acc: 0.9611\n",
      "Epoch 5/5\n",
      "543949/543949 [==============================] - 1637s 3ms/step - loss: 0.1590 - acc: 0.9572 - val_loss: 0.1362 - val_acc: 0.9629\n",
      "Test score: 0.3189770015782019\n",
      "Test accuracy: 0.9166026429010449\n",
      "26032/26032 [==============================] - 17s 666us/step\n",
      "Average F1 Score:  0.9166026429010449\n",
      "Predicted Number: 5\n"
     ]
    },
    {
     "data": {
      "image/png": "[encoded data removed]",
      "text/plain": [
       "<Figure size 432x288 with 1 Axes>"
      ]
     },
     "metadata": {},
     "output_type": "display_data"
    }
   ],
   "source": [
    "import svhn\n",
    "\n",
    "def main():\n",
    "\n",
    "    average_f1_scores = svhn.traintest()\n",
    "    print(\"Average F1 Score: \",average_f1_scores)\n",
    "    svhn.test('/Users/amarishagashe/Desktop/1.png')\n",
    "\n",
    "if __name__ == '__main__':\n",
    "    main()"
   ]
  },
  {
   "cell_type": "code",
   "execution_count": null,
   "metadata": {},
   "outputs": [],
   "source": []
  },
  {
   "cell_type": "code",
   "execution_count": null,
   "metadata": {},
   "outputs": [],
   "source": []
  }
 ],
 "metadata": {
  "kernelspec": {
   "display_name": "Python 3",
   "language": "python",
   "name": "python3"
  },
  "language_info": {
   "codemirror_mode": {
    "name": "ipython",
    "version": 3
   },
   "file_extension": ".py",
   "mimetype": "text/x-python",
   "name": "python",
   "nbconvert_exporter": "python",
   "pygments_lexer": "ipython3",
   "version": "3.6.5"
  }
 },
 "nbformat": 4,
 "nbformat_minor": 2
}
